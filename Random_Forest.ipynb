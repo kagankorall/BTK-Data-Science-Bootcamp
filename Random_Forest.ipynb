{
  "nbformat": 4,
  "nbformat_minor": 0,
  "metadata": {
    "colab": {
      "provenance": []
    },
    "kernelspec": {
      "name": "python3",
      "display_name": "Python 3"
    },
    "language_info": {
      "name": "python"
    }
  },
  "cells": [
    {
      "cell_type": "code",
      "execution_count": null,
      "metadata": {
        "colab": {
          "base_uri": "https://localhost:8080/"
        },
        "id": "LLzJNngfAO62",
        "outputId": "2aaa30df-b3f7-488a-9ab6-8e3e4a3b2549"
      },
      "outputs": [
        {
          "output_type": "stream",
          "name": "stdout",
          "text": [
            "Mounted at /content/drive\n"
          ]
        }
      ],
      "source": [
        "from google.colab import drive\n",
        "drive.mount('/content/drive')"
      ]
    },
    {
      "cell_type": "code",
      "source": [
        "import pandas as pd\n",
        "import numpy as np\n",
        "import matplotlib.pyplot as plt\n",
        "import seaborn as sns\n",
        "\n",
        "import warnings\n",
        "warnings.filterwarnings(\"ignore\")"
      ],
      "metadata": {
        "id": "7m16j84oAmGL"
      },
      "execution_count": null,
      "outputs": []
    },
    {
      "cell_type": "code",
      "source": [
        "data = pd.read_csv(\"/ortopedik_hastalarin_biyomekanik_ozellikleri.csv\", sep = \",\")\n",
        "data[\"class\"] = [1 if each == \"Abnormal\" else 0 for each in data[\"class\"]]"
      ],
      "metadata": {
        "id": "ZckLZjdYAn3Y"
      },
      "execution_count": null,
      "outputs": []
    },
    {
      "cell_type": "code",
      "source": [
        "y = data[\"class\"].values \n",
        "x_data = data.drop([\"class\"], axis=1)"
      ],
      "metadata": {
        "id": "e9AURZikAvGT"
      },
      "execution_count": null,
      "outputs": []
    },
    {
      "cell_type": "code",
      "source": [
        "X = (x_data - np.min(x_data)) / (np.max(x_data) - np.min(x_data)).values"
      ],
      "metadata": {
        "id": "EutbNYyaAxWp"
      },
      "execution_count": null,
      "outputs": []
    },
    {
      "cell_type": "code",
      "source": [
        "#Train-test split\n",
        "from sklearn.model_selection import train_test_split\n",
        "\n",
        "# 85% train, 15% test\n",
        "X_train, X_test, y_train, y_test = train_test_split(X, y, test_size = 0.15, random_state=42)"
      ],
      "metadata": {
        "id": "msgvdewDAyXd"
      },
      "execution_count": null,
      "outputs": []
    },
    {
      "cell_type": "code",
      "source": [
        "from sklearn.ensemble import RandomForestClassifier\n",
        "\n",
        "rf = RandomForestClassifier(n_estimators=100, random_state=1)\n",
        "rf.fit(X_train, y_train)\n",
        "\n",
        "print(\"Random Forest Accuracy: {}\".format(rf.score(X_test, y_test)))"
      ],
      "metadata": {
        "colab": {
          "base_uri": "https://localhost:8080/"
        },
        "id": "Ryia9rrSAz9g",
        "outputId": "874b9127-1246-45b4-cc16-cd763104faa6"
      },
      "execution_count": null,
      "outputs": [
        {
          "output_type": "stream",
          "name": "stdout",
          "text": [
            "Random Forest Accuracy: 0.851063829787234\n"
          ]
        }
      ]
    },
    {
      "cell_type": "code",
      "source": [],
      "metadata": {
        "id": "JIX4my9dA3TG"
      },
      "execution_count": null,
      "outputs": []
    }
  ]
}